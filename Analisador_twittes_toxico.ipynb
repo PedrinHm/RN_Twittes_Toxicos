{
  "nbformat": 4,
  "nbformat_minor": 0,
  "metadata": {
    "colab": {
      "provenance": [],
      "include_colab_link": true
    },
    "kernelspec": {
      "name": "python3",
      "display_name": "Python 3"
    },
    "language_info": {
      "name": "python"
    }
  },
  "cells": [
    {
      "cell_type": "markdown",
      "metadata": {
        "id": "view-in-github",
        "colab_type": "text"
      },
      "source": [
        "<a href=\"https://colab.research.google.com/github/PedrinHm/RN_Twittes_Toxicos/blob/main/Analisador_twittes_toxico.ipynb\" target=\"_parent\"><img src=\"https://colab.research.google.com/assets/colab-badge.svg\" alt=\"Open In Colab\"/></a>"
      ]
    },
    {
      "cell_type": "markdown",
      "source": [
        "# **Utilizando Rede Neural Recorrente do tipo LSTM (Long Short Term Memory) para classificar sentimentos em Twittes.**\n",
        "\n"
      ],
      "metadata": {
        "id": "qQ2F8eePSgCD"
      }
    },
    {
      "cell_type": "markdown",
      "source": [
        "**Metas:**\n",
        "- Carregar os reviews de filmes do  IBDb (~50.0000)\n",
        "- Pré-processsar o dataset removendo caracteres especiais, números e converter os labels de sentimento de pos/neg para respectivamente 1 e 0\n",
        "- Importar o GloVe Word Embedding, um dicionário para construção de uma matriz de Embedding\n",
        "- Criar nosso modelo LSTM e treinar a rede\n",
        "- Avaliar os resultados\n",
        "- Realizar predições\n"
      ],
      "metadata": {
        "id": "dWJYgqJTUvcG"
      }
    },
    {
      "cell_type": "code",
      "execution_count": 73,
      "metadata": {
        "colab": {
          "base_uri": "https://localhost:8080/",
          "height": 0
        },
        "id": "Tudz7CCTSbJZ",
        "outputId": "76206c2c-cf0d-4c50-870c-9617c1aabf5c"
      },
      "outputs": [
        {
          "output_type": "stream",
          "name": "stdout",
          "text": [
            "Drive already mounted at /content/drive; to attempt to forcibly remount, call drive.mount(\"/content/drive\", force_remount=True).\n"
          ]
        }
      ],
      "source": [
        "# Montando o google drive\n",
        "\n",
        "from google.colab import drive\n",
        "drive.mount('/content/drive')"
      ]
    },
    {
      "cell_type": "code",
      "source": [
        "# Definindo diretório de trabalho\n",
        "\n",
        "%cd /content/drive/My Drive/twittes_toxicos/\n",
        "! ls"
      ],
      "metadata": {
        "colab": {
          "base_uri": "https://localhost:8080/",
          "height": 0
        },
        "id": "Vsajy9Y_WaJQ",
        "outputId": "0caf0356-c462-4c16-fd17-3ddcaa03f5e9"
      },
      "execution_count": 74,
      "outputs": [
        {
          "output_type": "stream",
          "name": "stdout",
          "text": [
            "/content/drive/My Drive/twittes_toxicos\n",
            "glove_s100.txt\tlstm_model_acc_0.564.h5  ToLD-BR.csv\n"
          ]
        }
      ]
    },
    {
      "cell_type": "code",
      "source": [
        "from google.colab import drive\n",
        "drive.mount('/content/drive')"
      ],
      "metadata": {
        "colab": {
          "base_uri": "https://localhost:8080/",
          "height": 0
        },
        "id": "z0H9gW1r4VUv",
        "outputId": "b007d105-2934-4fee-9273-aa44ebec2dd9"
      },
      "execution_count": 75,
      "outputs": [
        {
          "output_type": "stream",
          "name": "stdout",
          "text": [
            "Drive already mounted at /content/drive; to attempt to forcibly remount, call drive.mount(\"/content/drive\", force_remount=True).\n"
          ]
        }
      ]
    },
    {
      "cell_type": "code",
      "source": [
        "#Importações de Bibliotecas\n",
        "import pandas as pd\n",
        "import numpy as np\n",
        "import matplotlib.pyplot as plt\n",
        "%matplotlib inline\n",
        "import seaborn as sns\n",
        "import re\n",
        "import nltk\n",
        "from nltk.corpus import stopwords\n",
        "from numpy import array\n",
        "from sklearn.model_selection import train_test_split\n",
        "from keras.models import Sequential\n",
        "from keras.preprocessing.text import Tokenizer\n",
        "from keras.preprocessing.sequence import pad_sequences\n",
        "from keras.layers import Embedding, LSTM, Flatten, Dense"
      ],
      "metadata": {
        "id": "8BNViBMNXDyY"
      },
      "execution_count": 76,
      "outputs": []
    },
    {
      "cell_type": "code",
      "source": [
        "#Carregando Dataset\n",
        "\n",
        "twitte_reviews = pd.read_csv(\"ToLD-BR.csv\")"
      ],
      "metadata": {
        "id": "xmOuqALQXV2y"
      },
      "execution_count": 77,
      "outputs": []
    },
    {
      "cell_type": "code",
      "source": [
        "#Exploração do Dataset\n",
        "\n",
        "twitte_reviews.shape"
      ],
      "metadata": {
        "colab": {
          "base_uri": "https://localhost:8080/",
          "height": 0
        },
        "id": "avWHJtabXjNd",
        "outputId": "a5ed0ac7-e706-4219-a660-cc1bb9f79a18"
      },
      "execution_count": 78,
      "outputs": [
        {
          "output_type": "execute_result",
          "data": {
            "text/plain": [
              "(21000, 7)"
            ]
          },
          "metadata": {},
          "execution_count": 78
        }
      ]
    },
    {
      "cell_type": "code",
      "source": [
        "twitte_reviews.head(15)"
      ],
      "metadata": {
        "colab": {
          "base_uri": "https://localhost:8080/",
          "height": 519
        },
        "id": "VZntGvGXXuRT",
        "outputId": "698e4fc7-0b97-42e9-aa65-ce6c78f4a3f6"
      },
      "execution_count": 103,
      "outputs": [
        {
          "output_type": "execute_result",
          "data": {
            "text/plain": [
              "                                                 text  homophobia  obscene  \\\n",
              "0   Meu nivel de amizade com isis é ela ter meu in...         0.0      0.0   \n",
              "1   rt @user @user o cara adultera dados, que fora...         0.0      0.0   \n",
              "2   @user @user @user o cara só é simplesmente o m...         0.0      2.0   \n",
              "3   eu to chorando vei vsf e eu nem staneio izone ...         0.0      1.0   \n",
              "4   Eleitor do Bolsonaro é tão ignorante q não per...         0.0      1.0   \n",
              "5   rt @user vai responder as outras 75 conversas ...         0.0      1.0   \n",
              "6   tem um do jack com a msm música e agr não sei ...         0.0      0.0   \n",
              "7   mais é ruim pra pedir desafio  esse técnico do...         0.0      0.0   \n",
              "8   @user eu fico vendo isso e penso \"desvantagens...         0.0      0.0   \n",
              "9   frio do caralho, parece até q to dentro do teu...         0.0      1.0   \n",
              "10         @user o mentiroso\\nhttps://t.co/5fantv4zdx         0.0      0.0   \n",
              "11  @user onde mexe fede!\\n#forastf \\n#stfvergonha...         0.0      1.0   \n",
              "12    meu filho vem primeiro, ele é minha prioridade!         0.0      0.0   \n",
              "13  hoje deu vontade de abraçar minha mãe e chorar...         0.0      0.0   \n",
              "14  Minha conta iria fazer 10 anos, em abril perde...         0.0      0.0   \n",
              "\n",
              "    insult  racism  misogyny  xenophobia  soma classificacao  \\\n",
              "0      2.0     0.0       0.0         0.0   2.0      negativo   \n",
              "1      1.0     0.0       0.0         0.0   1.0      negativo   \n",
              "2      1.0     0.0       0.0         0.0   3.0      negativo   \n",
              "3      0.0     0.0       0.0         0.0   1.0      negativo   \n",
              "4      2.0     0.0       0.0         0.0   3.0      negativo   \n",
              "5      1.0     0.0       0.0         0.0   2.0      negativo   \n",
              "6      0.0     0.0       0.0         0.0   0.0      positivo   \n",
              "7      1.0     0.0       0.0         1.0   2.0      negativo   \n",
              "8      1.0     0.0       0.0         2.0   3.0      negativo   \n",
              "9      1.0     0.0       0.0         0.0   2.0      negativo   \n",
              "10     2.0     0.0       0.0         0.0   2.0      negativo   \n",
              "11     1.0     0.0       0.0         0.0   2.0      negativo   \n",
              "12     0.0     0.0       0.0         0.0   0.0      positivo   \n",
              "13     0.0     0.0       0.0         0.0   0.0      positivo   \n",
              "14     0.0     0.0       0.0         0.0   0.0      positivo   \n",
              "\n",
              "   classificacao_label  \n",
              "0             Negativo  \n",
              "1             Negativo  \n",
              "2             Negativo  \n",
              "3             Negativo  \n",
              "4             Negativo  \n",
              "5             Negativo  \n",
              "6             Positivo  \n",
              "7             Negativo  \n",
              "8             Negativo  \n",
              "9             Negativo  \n",
              "10            Negativo  \n",
              "11            Negativo  \n",
              "12            Positivo  \n",
              "13            Positivo  \n",
              "14            Positivo  "
            ],
            "text/html": [
              "\n",
              "  <div id=\"df-dfcae3c4-3518-42f4-9c81-9bcc9a2201b1\" class=\"colab-df-container\">\n",
              "    <div>\n",
              "<style scoped>\n",
              "    .dataframe tbody tr th:only-of-type {\n",
              "        vertical-align: middle;\n",
              "    }\n",
              "\n",
              "    .dataframe tbody tr th {\n",
              "        vertical-align: top;\n",
              "    }\n",
              "\n",
              "    .dataframe thead th {\n",
              "        text-align: right;\n",
              "    }\n",
              "</style>\n",
              "<table border=\"1\" class=\"dataframe\">\n",
              "  <thead>\n",
              "    <tr style=\"text-align: right;\">\n",
              "      <th></th>\n",
              "      <th>text</th>\n",
              "      <th>homophobia</th>\n",
              "      <th>obscene</th>\n",
              "      <th>insult</th>\n",
              "      <th>racism</th>\n",
              "      <th>misogyny</th>\n",
              "      <th>xenophobia</th>\n",
              "      <th>soma</th>\n",
              "      <th>classificacao</th>\n",
              "      <th>classificacao_label</th>\n",
              "    </tr>\n",
              "  </thead>\n",
              "  <tbody>\n",
              "    <tr>\n",
              "      <th>0</th>\n",
              "      <td>Meu nivel de amizade com isis é ela ter meu in...</td>\n",
              "      <td>0.0</td>\n",
              "      <td>0.0</td>\n",
              "      <td>2.0</td>\n",
              "      <td>0.0</td>\n",
              "      <td>0.0</td>\n",
              "      <td>0.0</td>\n",
              "      <td>2.0</td>\n",
              "      <td>negativo</td>\n",
              "      <td>Negativo</td>\n",
              "    </tr>\n",
              "    <tr>\n",
              "      <th>1</th>\n",
              "      <td>rt @user @user o cara adultera dados, que fora...</td>\n",
              "      <td>0.0</td>\n",
              "      <td>0.0</td>\n",
              "      <td>1.0</td>\n",
              "      <td>0.0</td>\n",
              "      <td>0.0</td>\n",
              "      <td>0.0</td>\n",
              "      <td>1.0</td>\n",
              "      <td>negativo</td>\n",
              "      <td>Negativo</td>\n",
              "    </tr>\n",
              "    <tr>\n",
              "      <th>2</th>\n",
              "      <td>@user @user @user o cara só é simplesmente o m...</td>\n",
              "      <td>0.0</td>\n",
              "      <td>2.0</td>\n",
              "      <td>1.0</td>\n",
              "      <td>0.0</td>\n",
              "      <td>0.0</td>\n",
              "      <td>0.0</td>\n",
              "      <td>3.0</td>\n",
              "      <td>negativo</td>\n",
              "      <td>Negativo</td>\n",
              "    </tr>\n",
              "    <tr>\n",
              "      <th>3</th>\n",
              "      <td>eu to chorando vei vsf e eu nem staneio izone ...</td>\n",
              "      <td>0.0</td>\n",
              "      <td>1.0</td>\n",
              "      <td>0.0</td>\n",
              "      <td>0.0</td>\n",
              "      <td>0.0</td>\n",
              "      <td>0.0</td>\n",
              "      <td>1.0</td>\n",
              "      <td>negativo</td>\n",
              "      <td>Negativo</td>\n",
              "    </tr>\n",
              "    <tr>\n",
              "      <th>4</th>\n",
              "      <td>Eleitor do Bolsonaro é tão ignorante q não per...</td>\n",
              "      <td>0.0</td>\n",
              "      <td>1.0</td>\n",
              "      <td>2.0</td>\n",
              "      <td>0.0</td>\n",
              "      <td>0.0</td>\n",
              "      <td>0.0</td>\n",
              "      <td>3.0</td>\n",
              "      <td>negativo</td>\n",
              "      <td>Negativo</td>\n",
              "    </tr>\n",
              "    <tr>\n",
              "      <th>5</th>\n",
              "      <td>rt @user vai responder as outras 75 conversas ...</td>\n",
              "      <td>0.0</td>\n",
              "      <td>1.0</td>\n",
              "      <td>1.0</td>\n",
              "      <td>0.0</td>\n",
              "      <td>0.0</td>\n",
              "      <td>0.0</td>\n",
              "      <td>2.0</td>\n",
              "      <td>negativo</td>\n",
              "      <td>Negativo</td>\n",
              "    </tr>\n",
              "    <tr>\n",
              "      <th>6</th>\n",
              "      <td>tem um do jack com a msm música e agr não sei ...</td>\n",
              "      <td>0.0</td>\n",
              "      <td>0.0</td>\n",
              "      <td>0.0</td>\n",
              "      <td>0.0</td>\n",
              "      <td>0.0</td>\n",
              "      <td>0.0</td>\n",
              "      <td>0.0</td>\n",
              "      <td>positivo</td>\n",
              "      <td>Positivo</td>\n",
              "    </tr>\n",
              "    <tr>\n",
              "      <th>7</th>\n",
              "      <td>mais é ruim pra pedir desafio  esse técnico do...</td>\n",
              "      <td>0.0</td>\n",
              "      <td>0.0</td>\n",
              "      <td>1.0</td>\n",
              "      <td>0.0</td>\n",
              "      <td>0.0</td>\n",
              "      <td>1.0</td>\n",
              "      <td>2.0</td>\n",
              "      <td>negativo</td>\n",
              "      <td>Negativo</td>\n",
              "    </tr>\n",
              "    <tr>\n",
              "      <th>8</th>\n",
              "      <td>@user eu fico vendo isso e penso \"desvantagens...</td>\n",
              "      <td>0.0</td>\n",
              "      <td>0.0</td>\n",
              "      <td>1.0</td>\n",
              "      <td>0.0</td>\n",
              "      <td>0.0</td>\n",
              "      <td>2.0</td>\n",
              "      <td>3.0</td>\n",
              "      <td>negativo</td>\n",
              "      <td>Negativo</td>\n",
              "    </tr>\n",
              "    <tr>\n",
              "      <th>9</th>\n",
              "      <td>frio do caralho, parece até q to dentro do teu...</td>\n",
              "      <td>0.0</td>\n",
              "      <td>1.0</td>\n",
              "      <td>1.0</td>\n",
              "      <td>0.0</td>\n",
              "      <td>0.0</td>\n",
              "      <td>0.0</td>\n",
              "      <td>2.0</td>\n",
              "      <td>negativo</td>\n",
              "      <td>Negativo</td>\n",
              "    </tr>\n",
              "    <tr>\n",
              "      <th>10</th>\n",
              "      <td>@user o mentiroso\\nhttps://t.co/5fantv4zdx</td>\n",
              "      <td>0.0</td>\n",
              "      <td>0.0</td>\n",
              "      <td>2.0</td>\n",
              "      <td>0.0</td>\n",
              "      <td>0.0</td>\n",
              "      <td>0.0</td>\n",
              "      <td>2.0</td>\n",
              "      <td>negativo</td>\n",
              "      <td>Negativo</td>\n",
              "    </tr>\n",
              "    <tr>\n",
              "      <th>11</th>\n",
              "      <td>@user onde mexe fede!\\n#forastf \\n#stfvergonha...</td>\n",
              "      <td>0.0</td>\n",
              "      <td>1.0</td>\n",
              "      <td>1.0</td>\n",
              "      <td>0.0</td>\n",
              "      <td>0.0</td>\n",
              "      <td>0.0</td>\n",
              "      <td>2.0</td>\n",
              "      <td>negativo</td>\n",
              "      <td>Negativo</td>\n",
              "    </tr>\n",
              "    <tr>\n",
              "      <th>12</th>\n",
              "      <td>meu filho vem primeiro, ele é minha prioridade!</td>\n",
              "      <td>0.0</td>\n",
              "      <td>0.0</td>\n",
              "      <td>0.0</td>\n",
              "      <td>0.0</td>\n",
              "      <td>0.0</td>\n",
              "      <td>0.0</td>\n",
              "      <td>0.0</td>\n",
              "      <td>positivo</td>\n",
              "      <td>Positivo</td>\n",
              "    </tr>\n",
              "    <tr>\n",
              "      <th>13</th>\n",
              "      <td>hoje deu vontade de abraçar minha mãe e chorar...</td>\n",
              "      <td>0.0</td>\n",
              "      <td>0.0</td>\n",
              "      <td>0.0</td>\n",
              "      <td>0.0</td>\n",
              "      <td>0.0</td>\n",
              "      <td>0.0</td>\n",
              "      <td>0.0</td>\n",
              "      <td>positivo</td>\n",
              "      <td>Positivo</td>\n",
              "    </tr>\n",
              "    <tr>\n",
              "      <th>14</th>\n",
              "      <td>Minha conta iria fazer 10 anos, em abril perde...</td>\n",
              "      <td>0.0</td>\n",
              "      <td>0.0</td>\n",
              "      <td>0.0</td>\n",
              "      <td>0.0</td>\n",
              "      <td>0.0</td>\n",
              "      <td>0.0</td>\n",
              "      <td>0.0</td>\n",
              "      <td>positivo</td>\n",
              "      <td>Positivo</td>\n",
              "    </tr>\n",
              "  </tbody>\n",
              "</table>\n",
              "</div>\n",
              "    <div class=\"colab-df-buttons\">\n",
              "\n",
              "  <div class=\"colab-df-container\">\n",
              "    <button class=\"colab-df-convert\" onclick=\"convertToInteractive('df-dfcae3c4-3518-42f4-9c81-9bcc9a2201b1')\"\n",
              "            title=\"Convert this dataframe to an interactive table.\"\n",
              "            style=\"display:none;\">\n",
              "\n",
              "  <svg xmlns=\"http://www.w3.org/2000/svg\" height=\"24px\" viewBox=\"0 -960 960 960\">\n",
              "    <path d=\"M120-120v-720h720v720H120Zm60-500h600v-160H180v160Zm220 220h160v-160H400v160Zm0 220h160v-160H400v160ZM180-400h160v-160H180v160Zm440 0h160v-160H620v160ZM180-180h160v-160H180v160Zm440 0h160v-160H620v160Z\"/>\n",
              "  </svg>\n",
              "    </button>\n",
              "\n",
              "  <style>\n",
              "    .colab-df-container {\n",
              "      display:flex;\n",
              "      gap: 12px;\n",
              "    }\n",
              "\n",
              "    .colab-df-convert {\n",
              "      background-color: #E8F0FE;\n",
              "      border: none;\n",
              "      border-radius: 50%;\n",
              "      cursor: pointer;\n",
              "      display: none;\n",
              "      fill: #1967D2;\n",
              "      height: 32px;\n",
              "      padding: 0 0 0 0;\n",
              "      width: 32px;\n",
              "    }\n",
              "\n",
              "    .colab-df-convert:hover {\n",
              "      background-color: #E2EBFA;\n",
              "      box-shadow: 0px 1px 2px rgba(60, 64, 67, 0.3), 0px 1px 3px 1px rgba(60, 64, 67, 0.15);\n",
              "      fill: #174EA6;\n",
              "    }\n",
              "\n",
              "    .colab-df-buttons div {\n",
              "      margin-bottom: 4px;\n",
              "    }\n",
              "\n",
              "    [theme=dark] .colab-df-convert {\n",
              "      background-color: #3B4455;\n",
              "      fill: #D2E3FC;\n",
              "    }\n",
              "\n",
              "    [theme=dark] .colab-df-convert:hover {\n",
              "      background-color: #434B5C;\n",
              "      box-shadow: 0px 1px 3px 1px rgba(0, 0, 0, 0.15);\n",
              "      filter: drop-shadow(0px 1px 2px rgba(0, 0, 0, 0.3));\n",
              "      fill: #FFFFFF;\n",
              "    }\n",
              "  </style>\n",
              "\n",
              "    <script>\n",
              "      const buttonEl =\n",
              "        document.querySelector('#df-dfcae3c4-3518-42f4-9c81-9bcc9a2201b1 button.colab-df-convert');\n",
              "      buttonEl.style.display =\n",
              "        google.colab.kernel.accessAllowed ? 'block' : 'none';\n",
              "\n",
              "      async function convertToInteractive(key) {\n",
              "        const element = document.querySelector('#df-dfcae3c4-3518-42f4-9c81-9bcc9a2201b1');\n",
              "        const dataTable =\n",
              "          await google.colab.kernel.invokeFunction('convertToInteractive',\n",
              "                                                    [key], {});\n",
              "        if (!dataTable) return;\n",
              "\n",
              "        const docLinkHtml = 'Like what you see? Visit the ' +\n",
              "          '<a target=\"_blank\" href=https://colab.research.google.com/notebooks/data_table.ipynb>data table notebook</a>'\n",
              "          + ' to learn more about interactive tables.';\n",
              "        element.innerHTML = '';\n",
              "        dataTable['output_type'] = 'display_data';\n",
              "        await google.colab.output.renderOutput(dataTable, element);\n",
              "        const docLink = document.createElement('div');\n",
              "        docLink.innerHTML = docLinkHtml;\n",
              "        element.appendChild(docLink);\n",
              "      }\n",
              "    </script>\n",
              "  </div>\n",
              "\n",
              "\n",
              "<div id=\"df-9cd2ce4c-fba9-4472-9656-0838b2839ae1\">\n",
              "  <button class=\"colab-df-quickchart\" onclick=\"quickchart('df-9cd2ce4c-fba9-4472-9656-0838b2839ae1')\"\n",
              "            title=\"Suggest charts\"\n",
              "            style=\"display:none;\">\n",
              "\n",
              "<svg xmlns=\"http://www.w3.org/2000/svg\" height=\"24px\"viewBox=\"0 0 24 24\"\n",
              "     width=\"24px\">\n",
              "    <g>\n",
              "        <path d=\"M19 3H5c-1.1 0-2 .9-2 2v14c0 1.1.9 2 2 2h14c1.1 0 2-.9 2-2V5c0-1.1-.9-2-2-2zM9 17H7v-7h2v7zm4 0h-2V7h2v10zm4 0h-2v-4h2v4z\"/>\n",
              "    </g>\n",
              "</svg>\n",
              "  </button>\n",
              "\n",
              "<style>\n",
              "  .colab-df-quickchart {\n",
              "      --bg-color: #E8F0FE;\n",
              "      --fill-color: #1967D2;\n",
              "      --hover-bg-color: #E2EBFA;\n",
              "      --hover-fill-color: #174EA6;\n",
              "      --disabled-fill-color: #AAA;\n",
              "      --disabled-bg-color: #DDD;\n",
              "  }\n",
              "\n",
              "  [theme=dark] .colab-df-quickchart {\n",
              "      --bg-color: #3B4455;\n",
              "      --fill-color: #D2E3FC;\n",
              "      --hover-bg-color: #434B5C;\n",
              "      --hover-fill-color: #FFFFFF;\n",
              "      --disabled-bg-color: #3B4455;\n",
              "      --disabled-fill-color: #666;\n",
              "  }\n",
              "\n",
              "  .colab-df-quickchart {\n",
              "    background-color: var(--bg-color);\n",
              "    border: none;\n",
              "    border-radius: 50%;\n",
              "    cursor: pointer;\n",
              "    display: none;\n",
              "    fill: var(--fill-color);\n",
              "    height: 32px;\n",
              "    padding: 0;\n",
              "    width: 32px;\n",
              "  }\n",
              "\n",
              "  .colab-df-quickchart:hover {\n",
              "    background-color: var(--hover-bg-color);\n",
              "    box-shadow: 0 1px 2px rgba(60, 64, 67, 0.3), 0 1px 3px 1px rgba(60, 64, 67, 0.15);\n",
              "    fill: var(--button-hover-fill-color);\n",
              "  }\n",
              "\n",
              "  .colab-df-quickchart-complete:disabled,\n",
              "  .colab-df-quickchart-complete:disabled:hover {\n",
              "    background-color: var(--disabled-bg-color);\n",
              "    fill: var(--disabled-fill-color);\n",
              "    box-shadow: none;\n",
              "  }\n",
              "\n",
              "  .colab-df-spinner {\n",
              "    border: 2px solid var(--fill-color);\n",
              "    border-color: transparent;\n",
              "    border-bottom-color: var(--fill-color);\n",
              "    animation:\n",
              "      spin 1s steps(1) infinite;\n",
              "  }\n",
              "\n",
              "  @keyframes spin {\n",
              "    0% {\n",
              "      border-color: transparent;\n",
              "      border-bottom-color: var(--fill-color);\n",
              "      border-left-color: var(--fill-color);\n",
              "    }\n",
              "    20% {\n",
              "      border-color: transparent;\n",
              "      border-left-color: var(--fill-color);\n",
              "      border-top-color: var(--fill-color);\n",
              "    }\n",
              "    30% {\n",
              "      border-color: transparent;\n",
              "      border-left-color: var(--fill-color);\n",
              "      border-top-color: var(--fill-color);\n",
              "      border-right-color: var(--fill-color);\n",
              "    }\n",
              "    40% {\n",
              "      border-color: transparent;\n",
              "      border-right-color: var(--fill-color);\n",
              "      border-top-color: var(--fill-color);\n",
              "    }\n",
              "    60% {\n",
              "      border-color: transparent;\n",
              "      border-right-color: var(--fill-color);\n",
              "    }\n",
              "    80% {\n",
              "      border-color: transparent;\n",
              "      border-right-color: var(--fill-color);\n",
              "      border-bottom-color: var(--fill-color);\n",
              "    }\n",
              "    90% {\n",
              "      border-color: transparent;\n",
              "      border-bottom-color: var(--fill-color);\n",
              "    }\n",
              "  }\n",
              "</style>\n",
              "\n",
              "  <script>\n",
              "    async function quickchart(key) {\n",
              "      const quickchartButtonEl =\n",
              "        document.querySelector('#' + key + ' button');\n",
              "      quickchartButtonEl.disabled = true;  // To prevent multiple clicks.\n",
              "      quickchartButtonEl.classList.add('colab-df-spinner');\n",
              "      try {\n",
              "        const charts = await google.colab.kernel.invokeFunction(\n",
              "            'suggestCharts', [key], {});\n",
              "      } catch (error) {\n",
              "        console.error('Error during call to suggestCharts:', error);\n",
              "      }\n",
              "      quickchartButtonEl.classList.remove('colab-df-spinner');\n",
              "      quickchartButtonEl.classList.add('colab-df-quickchart-complete');\n",
              "    }\n",
              "    (() => {\n",
              "      let quickchartButtonEl =\n",
              "        document.querySelector('#df-9cd2ce4c-fba9-4472-9656-0838b2839ae1 button');\n",
              "      quickchartButtonEl.style.display =\n",
              "        google.colab.kernel.accessAllowed ? 'block' : 'none';\n",
              "    })();\n",
              "  </script>\n",
              "</div>\n",
              "    </div>\n",
              "  </div>\n"
            ],
            "application/vnd.google.colaboratory.intrinsic+json": {
              "type": "dataframe",
              "variable_name": "twitte_reviews",
              "summary": "{\n  \"name\": \"twitte_reviews\",\n  \"rows\": 21000,\n  \"fields\": [\n    {\n      \"column\": \"text\",\n      \"properties\": {\n        \"dtype\": \"string\",\n        \"num_unique_values\": 20813,\n        \"samples\": [\n          \"totalmente falso! \\ud83d\\ude33\",\n          \"hoje eu t\\u00f4 assim: acordo 10 minutos, durmo 40 a\\u00ed depois acordo de novo e durmo mais umas horas e por a\\u00ed vai. Quem reclamar que t\\u00f4 dando v\\u00e1cuo vai tomar no cu porque n\\u00e3o t\\u00f4 em condi\\u00e7\\u00f5es de me manter acordada por muito tempo\",\n          \"@user @user @user N\\u00e3o s\\u00f3 teve, o encontro com o povo baiano, como foi apote\\u00f3tico...Show ! O Presidente \\u00e9 um cara retado...\\ud83d\\udc49\\ud83d\\ude0e\\ud83c\\udde7\\ud83c\\uddf7\\ud83d\\udc9b\\ud83d\\udc9a\\ud83d\\udc99\"\n        ],\n        \"semantic_type\": \"\",\n        \"description\": \"\"\n      }\n    },\n    {\n      \"column\": \"homophobia\",\n      \"properties\": {\n        \"dtype\": \"number\",\n        \"std\": 0.24154824335919348,\n        \"min\": 0.0,\n        \"max\": 3.0,\n        \"num_unique_values\": 4,\n        \"samples\": [\n          1.0,\n          2.0,\n          0.0\n        ],\n        \"semantic_type\": \"\",\n        \"description\": \"\"\n      }\n    },\n    {\n      \"column\": \"obscene\",\n      \"properties\": {\n        \"dtype\": \"number\",\n        \"std\": 0.7706383114966268,\n        \"min\": 0.0,\n        \"max\": 3.0,\n        \"num_unique_values\": 4,\n        \"samples\": [\n          2.0,\n          3.0,\n          0.0\n        ],\n        \"semantic_type\": \"\",\n        \"description\": \"\"\n      }\n    },\n    {\n      \"column\": \"insult\",\n      \"properties\": {\n        \"dtype\": \"number\",\n        \"std\": 0.7035397274803384,\n        \"min\": 0.0,\n        \"max\": 3.0,\n        \"num_unique_values\": 4,\n        \"samples\": [\n          1.0,\n          3.0,\n          2.0\n        ],\n        \"semantic_type\": \"\",\n        \"description\": \"\"\n      }\n    },\n    {\n      \"column\": \"racism\",\n      \"properties\": {\n        \"dtype\": \"number\",\n        \"std\": 0.1124448619809322,\n        \"min\": 0.0,\n        \"max\": 3.0,\n        \"num_unique_values\": 4,\n        \"samples\": [\n          1.0,\n          2.0,\n          0.0\n        ],\n        \"semantic_type\": \"\",\n        \"description\": \"\"\n      }\n    },\n    {\n      \"column\": \"misogyny\",\n      \"properties\": {\n        \"dtype\": \"number\",\n        \"std\": 0.216953569574686,\n        \"min\": 0.0,\n        \"max\": 3.0,\n        \"num_unique_values\": 4,\n        \"samples\": [\n          1.0,\n          3.0,\n          0.0\n        ],\n        \"semantic_type\": \"\",\n        \"description\": \"\"\n      }\n    },\n    {\n      \"column\": \"xenophobia\",\n      \"properties\": {\n        \"dtype\": \"number\",\n        \"std\": 0.12909141724224057,\n        \"min\": 0.0,\n        \"max\": 3.0,\n        \"num_unique_values\": 4,\n        \"samples\": [\n          1.0,\n          3.0,\n          0.0\n        ],\n        \"semantic_type\": \"\",\n        \"description\": \"\"\n      }\n    },\n    {\n      \"column\": \"soma\",\n      \"properties\": {\n        \"dtype\": \"number\",\n        \"std\": 1.2615360260332216,\n        \"min\": 0.0,\n        \"max\": 14.0,\n        \"num_unique_values\": 11,\n        \"samples\": [\n          4.0,\n          2.0,\n          9.0\n        ],\n        \"semantic_type\": \"\",\n        \"description\": \"\"\n      }\n    },\n    {\n      \"column\": \"classificacao\",\n      \"properties\": {\n        \"dtype\": \"category\",\n        \"num_unique_values\": 2,\n        \"samples\": [\n          \"positivo\",\n          \"negativo\"\n        ],\n        \"semantic_type\": \"\",\n        \"description\": \"\"\n      }\n    },\n    {\n      \"column\": \"classificacao_label\",\n      \"properties\": {\n        \"dtype\": \"category\",\n        \"num_unique_values\": 2,\n        \"samples\": [\n          \"Positivo\",\n          \"Negativo\"\n        ],\n        \"semantic_type\": \"\",\n        \"description\": \"\"\n      }\n    }\n  ]\n}"
            }
          },
          "metadata": {},
          "execution_count": 103
        }
      ]
    },
    {
      "cell_type": "code",
      "source": [
        "# Verificando se o dataset possui algum valor faltando\n",
        "\n",
        "twitte_reviews.isnull().values.any()"
      ],
      "metadata": {
        "colab": {
          "base_uri": "https://localhost:8080/",
          "height": 0
        },
        "id": "Ccpp0YVEX0pU",
        "outputId": "7c479828-867e-4b0e-9de6-a364c03fc8bb"
      },
      "execution_count": 83,
      "outputs": [
        {
          "output_type": "execute_result",
          "data": {
            "text/plain": [
              "False"
            ]
          },
          "metadata": {},
          "execution_count": 83
        }
      ]
    },
    {
      "cell_type": "markdown",
      "source": [
        "Para abordar a ampla variação entre as classes, optei por simplificar a categorização dos comentários em positivos e negativos. A classificação será baseada na soma dos valores atribuídos a cada classe: se o resultado for 0, o comentário será considerado positivo; se for maior que 0, será considerado negativo. Isso permitirá uma análise mais direta e eficiente da polaridade dos comentários."
      ],
      "metadata": {
        "id": "EBRnr3mt_Zwj"
      }
    },
    {
      "cell_type": "markdown",
      "source": [
        "Dessa forma, tenho um dataset melhor dividido."
      ],
      "metadata": {
        "id": "Jxz7Wmvj_2KI"
      }
    },
    {
      "cell_type": "code",
      "source": [
        "#twitte_reviews['soma'] = twitte_reviews['homophobia'] + twitte_reviews['obscene'] + twitte_reviews['insult'] + twitte_reviews['racism'] + twitte_reviews['misogyny'] + twitte_reviews['xenophobia']\n",
        "#twitte_reviews['classificacao'] = (twitte_reviews['soma'] >= 1).astype(int)\n",
        "\n",
        "colunas = [\"homophobia\", \"obscene\", \"insult\", \"racism\", \"misogyny\", \"xenophobia\"]\n",
        "\n",
        "# Calculando a soma e aplicando a classificação como \"positivo\" ou \"negativo\"\n",
        "twitte_reviews['soma'] = twitte_reviews[colunas].sum(axis=1)\n",
        "twitte_reviews['classificacao'] = twitte_reviews['soma'].apply(lambda x: 'negativo' if x >= 1 else 'positivo')\n",
        "\n",
        "# Mostrar o DataFrame com as colunas 'text', 'soma' e 'classificacao'\n",
        "twitte_reviews[['text', 'soma', 'classificacao']]"
      ],
      "metadata": {
        "colab": {
          "base_uri": "https://localhost:8080/",
          "height": 423
        },
        "id": "Niey1lHN_17e",
        "outputId": "7e160f9c-28e4-497b-b2a6-27e1a626f84e"
      },
      "execution_count": 81,
      "outputs": [
        {
          "output_type": "execute_result",
          "data": {
            "text/plain": [
              "                                                    text  soma classificacao\n",
              "0      Meu nivel de amizade com isis é ela ter meu in...   2.0      negativo\n",
              "1      rt @user @user o cara adultera dados, que fora...   1.0      negativo\n",
              "2      @user @user @user o cara só é simplesmente o m...   3.0      negativo\n",
              "3      eu to chorando vei vsf e eu nem staneio izone ...   1.0      negativo\n",
              "4      Eleitor do Bolsonaro é tão ignorante q não per...   3.0      negativo\n",
              "...                                                  ...   ...           ...\n",
              "20995                          @user faz favor vai carai   0.0      positivo\n",
              "20996  só queria conhecer alguém que não conhece o he...   1.0      negativo\n",
              "20997  vcs militam na hora errada em cima de memes, p...   0.0      positivo\n",
              "20998  @user porra any eu tava c dor de cabeca e fui ...   0.0      positivo\n",
              "20999  saudades da iasmin de 2017 eu era gótica demai...   0.0      positivo\n",
              "\n",
              "[21000 rows x 3 columns]"
            ],
            "text/html": [
              "\n",
              "  <div id=\"df-ac4e8fc3-42d2-4d4b-bca6-68a64dc0403a\" class=\"colab-df-container\">\n",
              "    <div>\n",
              "<style scoped>\n",
              "    .dataframe tbody tr th:only-of-type {\n",
              "        vertical-align: middle;\n",
              "    }\n",
              "\n",
              "    .dataframe tbody tr th {\n",
              "        vertical-align: top;\n",
              "    }\n",
              "\n",
              "    .dataframe thead th {\n",
              "        text-align: right;\n",
              "    }\n",
              "</style>\n",
              "<table border=\"1\" class=\"dataframe\">\n",
              "  <thead>\n",
              "    <tr style=\"text-align: right;\">\n",
              "      <th></th>\n",
              "      <th>text</th>\n",
              "      <th>soma</th>\n",
              "      <th>classificacao</th>\n",
              "    </tr>\n",
              "  </thead>\n",
              "  <tbody>\n",
              "    <tr>\n",
              "      <th>0</th>\n",
              "      <td>Meu nivel de amizade com isis é ela ter meu in...</td>\n",
              "      <td>2.0</td>\n",
              "      <td>negativo</td>\n",
              "    </tr>\n",
              "    <tr>\n",
              "      <th>1</th>\n",
              "      <td>rt @user @user o cara adultera dados, que fora...</td>\n",
              "      <td>1.0</td>\n",
              "      <td>negativo</td>\n",
              "    </tr>\n",
              "    <tr>\n",
              "      <th>2</th>\n",
              "      <td>@user @user @user o cara só é simplesmente o m...</td>\n",
              "      <td>3.0</td>\n",
              "      <td>negativo</td>\n",
              "    </tr>\n",
              "    <tr>\n",
              "      <th>3</th>\n",
              "      <td>eu to chorando vei vsf e eu nem staneio izone ...</td>\n",
              "      <td>1.0</td>\n",
              "      <td>negativo</td>\n",
              "    </tr>\n",
              "    <tr>\n",
              "      <th>4</th>\n",
              "      <td>Eleitor do Bolsonaro é tão ignorante q não per...</td>\n",
              "      <td>3.0</td>\n",
              "      <td>negativo</td>\n",
              "    </tr>\n",
              "    <tr>\n",
              "      <th>...</th>\n",
              "      <td>...</td>\n",
              "      <td>...</td>\n",
              "      <td>...</td>\n",
              "    </tr>\n",
              "    <tr>\n",
              "      <th>20995</th>\n",
              "      <td>@user faz favor vai carai</td>\n",
              "      <td>0.0</td>\n",
              "      <td>positivo</td>\n",
              "    </tr>\n",
              "    <tr>\n",
              "      <th>20996</th>\n",
              "      <td>só queria conhecer alguém que não conhece o he...</td>\n",
              "      <td>1.0</td>\n",
              "      <td>negativo</td>\n",
              "    </tr>\n",
              "    <tr>\n",
              "      <th>20997</th>\n",
              "      <td>vcs militam na hora errada em cima de memes, p...</td>\n",
              "      <td>0.0</td>\n",
              "      <td>positivo</td>\n",
              "    </tr>\n",
              "    <tr>\n",
              "      <th>20998</th>\n",
              "      <td>@user porra any eu tava c dor de cabeca e fui ...</td>\n",
              "      <td>0.0</td>\n",
              "      <td>positivo</td>\n",
              "    </tr>\n",
              "    <tr>\n",
              "      <th>20999</th>\n",
              "      <td>saudades da iasmin de 2017 eu era gótica demai...</td>\n",
              "      <td>0.0</td>\n",
              "      <td>positivo</td>\n",
              "    </tr>\n",
              "  </tbody>\n",
              "</table>\n",
              "<p>21000 rows × 3 columns</p>\n",
              "</div>\n",
              "    <div class=\"colab-df-buttons\">\n",
              "\n",
              "  <div class=\"colab-df-container\">\n",
              "    <button class=\"colab-df-convert\" onclick=\"convertToInteractive('df-ac4e8fc3-42d2-4d4b-bca6-68a64dc0403a')\"\n",
              "            title=\"Convert this dataframe to an interactive table.\"\n",
              "            style=\"display:none;\">\n",
              "\n",
              "  <svg xmlns=\"http://www.w3.org/2000/svg\" height=\"24px\" viewBox=\"0 -960 960 960\">\n",
              "    <path d=\"M120-120v-720h720v720H120Zm60-500h600v-160H180v160Zm220 220h160v-160H400v160Zm0 220h160v-160H400v160ZM180-400h160v-160H180v160Zm440 0h160v-160H620v160ZM180-180h160v-160H180v160Zm440 0h160v-160H620v160Z\"/>\n",
              "  </svg>\n",
              "    </button>\n",
              "\n",
              "  <style>\n",
              "    .colab-df-container {\n",
              "      display:flex;\n",
              "      gap: 12px;\n",
              "    }\n",
              "\n",
              "    .colab-df-convert {\n",
              "      background-color: #E8F0FE;\n",
              "      border: none;\n",
              "      border-radius: 50%;\n",
              "      cursor: pointer;\n",
              "      display: none;\n",
              "      fill: #1967D2;\n",
              "      height: 32px;\n",
              "      padding: 0 0 0 0;\n",
              "      width: 32px;\n",
              "    }\n",
              "\n",
              "    .colab-df-convert:hover {\n",
              "      background-color: #E2EBFA;\n",
              "      box-shadow: 0px 1px 2px rgba(60, 64, 67, 0.3), 0px 1px 3px 1px rgba(60, 64, 67, 0.15);\n",
              "      fill: #174EA6;\n",
              "    }\n",
              "\n",
              "    .colab-df-buttons div {\n",
              "      margin-bottom: 4px;\n",
              "    }\n",
              "\n",
              "    [theme=dark] .colab-df-convert {\n",
              "      background-color: #3B4455;\n",
              "      fill: #D2E3FC;\n",
              "    }\n",
              "\n",
              "    [theme=dark] .colab-df-convert:hover {\n",
              "      background-color: #434B5C;\n",
              "      box-shadow: 0px 1px 3px 1px rgba(0, 0, 0, 0.15);\n",
              "      filter: drop-shadow(0px 1px 2px rgba(0, 0, 0, 0.3));\n",
              "      fill: #FFFFFF;\n",
              "    }\n",
              "  </style>\n",
              "\n",
              "    <script>\n",
              "      const buttonEl =\n",
              "        document.querySelector('#df-ac4e8fc3-42d2-4d4b-bca6-68a64dc0403a button.colab-df-convert');\n",
              "      buttonEl.style.display =\n",
              "        google.colab.kernel.accessAllowed ? 'block' : 'none';\n",
              "\n",
              "      async function convertToInteractive(key) {\n",
              "        const element = document.querySelector('#df-ac4e8fc3-42d2-4d4b-bca6-68a64dc0403a');\n",
              "        const dataTable =\n",
              "          await google.colab.kernel.invokeFunction('convertToInteractive',\n",
              "                                                    [key], {});\n",
              "        if (!dataTable) return;\n",
              "\n",
              "        const docLinkHtml = 'Like what you see? Visit the ' +\n",
              "          '<a target=\"_blank\" href=https://colab.research.google.com/notebooks/data_table.ipynb>data table notebook</a>'\n",
              "          + ' to learn more about interactive tables.';\n",
              "        element.innerHTML = '';\n",
              "        dataTable['output_type'] = 'display_data';\n",
              "        await google.colab.output.renderOutput(dataTable, element);\n",
              "        const docLink = document.createElement('div');\n",
              "        docLink.innerHTML = docLinkHtml;\n",
              "        element.appendChild(docLink);\n",
              "      }\n",
              "    </script>\n",
              "  </div>\n",
              "\n",
              "\n",
              "<div id=\"df-40960827-64d4-437d-9c91-8dfe056f6fb8\">\n",
              "  <button class=\"colab-df-quickchart\" onclick=\"quickchart('df-40960827-64d4-437d-9c91-8dfe056f6fb8')\"\n",
              "            title=\"Suggest charts\"\n",
              "            style=\"display:none;\">\n",
              "\n",
              "<svg xmlns=\"http://www.w3.org/2000/svg\" height=\"24px\"viewBox=\"0 0 24 24\"\n",
              "     width=\"24px\">\n",
              "    <g>\n",
              "        <path d=\"M19 3H5c-1.1 0-2 .9-2 2v14c0 1.1.9 2 2 2h14c1.1 0 2-.9 2-2V5c0-1.1-.9-2-2-2zM9 17H7v-7h2v7zm4 0h-2V7h2v10zm4 0h-2v-4h2v4z\"/>\n",
              "    </g>\n",
              "</svg>\n",
              "  </button>\n",
              "\n",
              "<style>\n",
              "  .colab-df-quickchart {\n",
              "      --bg-color: #E8F0FE;\n",
              "      --fill-color: #1967D2;\n",
              "      --hover-bg-color: #E2EBFA;\n",
              "      --hover-fill-color: #174EA6;\n",
              "      --disabled-fill-color: #AAA;\n",
              "      --disabled-bg-color: #DDD;\n",
              "  }\n",
              "\n",
              "  [theme=dark] .colab-df-quickchart {\n",
              "      --bg-color: #3B4455;\n",
              "      --fill-color: #D2E3FC;\n",
              "      --hover-bg-color: #434B5C;\n",
              "      --hover-fill-color: #FFFFFF;\n",
              "      --disabled-bg-color: #3B4455;\n",
              "      --disabled-fill-color: #666;\n",
              "  }\n",
              "\n",
              "  .colab-df-quickchart {\n",
              "    background-color: var(--bg-color);\n",
              "    border: none;\n",
              "    border-radius: 50%;\n",
              "    cursor: pointer;\n",
              "    display: none;\n",
              "    fill: var(--fill-color);\n",
              "    height: 32px;\n",
              "    padding: 0;\n",
              "    width: 32px;\n",
              "  }\n",
              "\n",
              "  .colab-df-quickchart:hover {\n",
              "    background-color: var(--hover-bg-color);\n",
              "    box-shadow: 0 1px 2px rgba(60, 64, 67, 0.3), 0 1px 3px 1px rgba(60, 64, 67, 0.15);\n",
              "    fill: var(--button-hover-fill-color);\n",
              "  }\n",
              "\n",
              "  .colab-df-quickchart-complete:disabled,\n",
              "  .colab-df-quickchart-complete:disabled:hover {\n",
              "    background-color: var(--disabled-bg-color);\n",
              "    fill: var(--disabled-fill-color);\n",
              "    box-shadow: none;\n",
              "  }\n",
              "\n",
              "  .colab-df-spinner {\n",
              "    border: 2px solid var(--fill-color);\n",
              "    border-color: transparent;\n",
              "    border-bottom-color: var(--fill-color);\n",
              "    animation:\n",
              "      spin 1s steps(1) infinite;\n",
              "  }\n",
              "\n",
              "  @keyframes spin {\n",
              "    0% {\n",
              "      border-color: transparent;\n",
              "      border-bottom-color: var(--fill-color);\n",
              "      border-left-color: var(--fill-color);\n",
              "    }\n",
              "    20% {\n",
              "      border-color: transparent;\n",
              "      border-left-color: var(--fill-color);\n",
              "      border-top-color: var(--fill-color);\n",
              "    }\n",
              "    30% {\n",
              "      border-color: transparent;\n",
              "      border-left-color: var(--fill-color);\n",
              "      border-top-color: var(--fill-color);\n",
              "      border-right-color: var(--fill-color);\n",
              "    }\n",
              "    40% {\n",
              "      border-color: transparent;\n",
              "      border-right-color: var(--fill-color);\n",
              "      border-top-color: var(--fill-color);\n",
              "    }\n",
              "    60% {\n",
              "      border-color: transparent;\n",
              "      border-right-color: var(--fill-color);\n",
              "    }\n",
              "    80% {\n",
              "      border-color: transparent;\n",
              "      border-right-color: var(--fill-color);\n",
              "      border-bottom-color: var(--fill-color);\n",
              "    }\n",
              "    90% {\n",
              "      border-color: transparent;\n",
              "      border-bottom-color: var(--fill-color);\n",
              "    }\n",
              "  }\n",
              "</style>\n",
              "\n",
              "  <script>\n",
              "    async function quickchart(key) {\n",
              "      const quickchartButtonEl =\n",
              "        document.querySelector('#' + key + ' button');\n",
              "      quickchartButtonEl.disabled = true;  // To prevent multiple clicks.\n",
              "      quickchartButtonEl.classList.add('colab-df-spinner');\n",
              "      try {\n",
              "        const charts = await google.colab.kernel.invokeFunction(\n",
              "            'suggestCharts', [key], {});\n",
              "      } catch (error) {\n",
              "        console.error('Error during call to suggestCharts:', error);\n",
              "      }\n",
              "      quickchartButtonEl.classList.remove('colab-df-spinner');\n",
              "      quickchartButtonEl.classList.add('colab-df-quickchart-complete');\n",
              "    }\n",
              "    (() => {\n",
              "      let quickchartButtonEl =\n",
              "        document.querySelector('#df-40960827-64d4-437d-9c91-8dfe056f6fb8 button');\n",
              "      quickchartButtonEl.style.display =\n",
              "        google.colab.kernel.accessAllowed ? 'block' : 'none';\n",
              "    })();\n",
              "  </script>\n",
              "</div>\n",
              "    </div>\n",
              "  </div>\n"
            ],
            "application/vnd.google.colaboratory.intrinsic+json": {
              "type": "dataframe",
              "summary": "{\n  \"name\": \"twitte_reviews[['text', 'soma', 'classificacao']]\",\n  \"rows\": 21000,\n  \"fields\": [\n    {\n      \"column\": \"text\",\n      \"properties\": {\n        \"dtype\": \"string\",\n        \"num_unique_values\": 20813,\n        \"samples\": [\n          \"totalmente falso! \\ud83d\\ude33\",\n          \"hoje eu t\\u00f4 assim: acordo 10 minutos, durmo 40 a\\u00ed depois acordo de novo e durmo mais umas horas e por a\\u00ed vai. Quem reclamar que t\\u00f4 dando v\\u00e1cuo vai tomar no cu porque n\\u00e3o t\\u00f4 em condi\\u00e7\\u00f5es de me manter acordada por muito tempo\",\n          \"@user @user @user N\\u00e3o s\\u00f3 teve, o encontro com o povo baiano, como foi apote\\u00f3tico...Show ! O Presidente \\u00e9 um cara retado...\\ud83d\\udc49\\ud83d\\ude0e\\ud83c\\udde7\\ud83c\\uddf7\\ud83d\\udc9b\\ud83d\\udc9a\\ud83d\\udc99\"\n        ],\n        \"semantic_type\": \"\",\n        \"description\": \"\"\n      }\n    },\n    {\n      \"column\": \"soma\",\n      \"properties\": {\n        \"dtype\": \"number\",\n        \"std\": 1.2615360260332216,\n        \"min\": 0.0,\n        \"max\": 14.0,\n        \"num_unique_values\": 11,\n        \"samples\": [\n          4.0,\n          2.0,\n          9.0\n        ],\n        \"semantic_type\": \"\",\n        \"description\": \"\"\n      }\n    },\n    {\n      \"column\": \"classificacao\",\n      \"properties\": {\n        \"dtype\": \"category\",\n        \"num_unique_values\": 2,\n        \"samples\": [\n          \"positivo\",\n          \"negativo\"\n        ],\n        \"semantic_type\": \"\",\n        \"description\": \"\"\n      }\n    }\n  ]\n}"
            }
          },
          "metadata": {},
          "execution_count": 81
        }
      ]
    },
    {
      "cell_type": "code",
      "source": [
        "twitte_reviews['classificacao_label'] = twitte_reviews['classificacao'].map({'positivo': 'Positivo', 'negativo': 'Negativo'})\n",
        "\n",
        "# Criando o gráfico\n",
        "plt.figure(figsize=(8, 5))\n",
        "ax = sns.countplot(x='classificacao_label', data=twitte_reviews, palette={'Positivo': 'green', 'Negativo': 'red'})\n",
        "plt.title('Distribuição de Comentários Positivos e Negativos')\n",
        "plt.xlabel('Classificação')\n",
        "plt.ylabel('Quantidade')\n",
        "\n",
        "# Adicionando anotações com as quantidades exatas\n",
        "for p in ax.patches:\n",
        "    ax.annotate(f'{int(p.get_height())}', (p.get_x() + p.get_width() / 2., p.get_height()),\n",
        "                ha='center', va='bottom', color='black')\n",
        "\n",
        "plt.show()\n"
      ],
      "metadata": {
        "colab": {
          "base_uri": "https://localhost:8080/",
          "height": 580
        },
        "id": "wSGijq8VCOmr",
        "outputId": "8380720d-2fbb-488d-dffc-026dbdb49b8f"
      },
      "execution_count": 84,
      "outputs": [
        {
          "output_type": "stream",
          "name": "stderr",
          "text": [
            "<ipython-input-84-3e1d68f38d45>:5: FutureWarning: \n",
            "\n",
            "Passing `palette` without assigning `hue` is deprecated and will be removed in v0.14.0. Assign the `x` variable to `hue` and set `legend=False` for the same effect.\n",
            "\n",
            "  ax = sns.countplot(x='classificacao_label', data=twitte_reviews, palette={'Positivo': 'green', 'Negativo': 'red'})\n"
          ]
        },
        {
          "output_type": "display_data",
          "data": {
            "text/plain": [
              "<Figure size 800x500 with 1 Axes>"
            ],
            "image/png": "[encoded data removed]"
          },
          "metadata": {}
        }
      ]
    },
    {
      "cell_type": "markdown",
      "source": [
        "**Pré Processamento**"
      ],
      "metadata": {
        "id": "p92z405TYRpb"
      }
    },
    {
      "cell_type": "code",
      "source": [
        "twitte_reviews[\"text\"][1]"
      ],
      "metadata": {
        "colab": {
          "base_uri": "https://localhost:8080/",
          "height": 36
        },
        "id": "6yUMOXJWTHwI",
        "outputId": "fb63c363-7580-4350-c56d-636f11b59078"
      },
      "execution_count": 96,
      "outputs": [
        {
          "output_type": "execute_result",
          "data": {
            "text/plain": [
              "'rt @user @user o cara adultera dados, que foram desmascarados e ainda quer ficar no governo?'"
            ],
            "application/vnd.google.colaboratory.intrinsic+json": {
              "type": "string"
            }
          },
          "metadata": {},
          "execution_count": 96
        }
      ]
    },
    {
      "cell_type": "code",
      "source": [
        "twitte_reviews[\"text\"][2]"
      ],
      "metadata": {
        "colab": {
          "base_uri": "https://localhost:8080/",
          "height": 36
        },
        "id": "RULYfSDWTF75",
        "outputId": "ea33edda-62c8-475f-850c-8320a6bc98b8"
      },
      "execution_count": 95,
      "outputs": [
        {
          "output_type": "execute_result",
          "data": {
            "text/plain": [
              "'@user @user @user o cara só é simplesmente o maior vencedor da história de futebol, tá com 36 anos e tem gás demais e não um gordo com joelho fodido'"
            ],
            "application/vnd.google.colaboratory.intrinsic+json": {
              "type": "string"
            }
          },
          "metadata": {},
          "execution_count": 95
        }
      ]
    },
    {
      "cell_type": "code",
      "source": [
        "twitte_reviews[\"text\"][3]\n"
      ],
      "metadata": {
        "colab": {
          "base_uri": "https://localhost:8080/",
          "height": 36
        },
        "id": "NWj4UpyJYbDR",
        "outputId": "81b56c0f-a91c-450a-bd34-8776f7d47019"
      },
      "execution_count": 94,
      "outputs": [
        {
          "output_type": "execute_result",
          "data": {
            "text/plain": [
              "'eu to chorando vei vsf e eu nem staneio izone nem nada https://t.co/rglb8luutw'"
            ],
            "application/vnd.google.colaboratory.intrinsic+json": {
              "type": "string"
            }
          },
          "metadata": {},
          "execution_count": 94
        }
      ]
    },
    {
      "cell_type": "code",
      "source": [
        "TAG_RE = re.compile(r'<[^>]+>')\n",
        "\n",
        "def remove_tags(text):\n",
        "    '''Remover tags HTML: trocando o valor entre <> por espaço em branco'''\n",
        "\n",
        "    return TAG_RE.sub('', text)"
      ],
      "metadata": {
        "id": "NsARl9MlZREx"
      },
      "execution_count": 89,
      "outputs": []
    },
    {
      "cell_type": "code",
      "source": [
        "import nltk\n",
        "nltk.download('stopwords')\n",
        "\n",
        "# Carregar stopwords em português\n",
        "stop_words = stopwords.words('portuguese')"
      ],
      "metadata": {
        "colab": {
          "base_uri": "https://localhost:8080/",
          "height": 0
        },
        "id": "0dzX1EObZgIZ",
        "outputId": "c1137170-ec3b-49ab-9243-35d3e88e8cc8"
      },
      "execution_count": 90,
      "outputs": [
        {
          "output_type": "stream",
          "name": "stderr",
          "text": [
            "[nltk_data] Downloading package stopwords to /root/nltk_data...\n",
            "[nltk_data]   Package stopwords is already up-to-date!\n"
          ]
        }
      ]
    },
    {
      "cell_type": "code",
      "source": [
        "def preprocess_text(sen):\n",
        "    '''Cleans text data up, leaving only 2 or more char long non-stepwords composed of A-Z & a-z only\n",
        "    in lowercase'''\n",
        "\n",
        "    sentence = sen.lower()\n",
        "\n",
        "\n",
        "    # Remover pontuações e números\n",
        "    sentence = re.sub('[^a-zA-Záàâãéèêíïóôõöúçñ]', ' ', sentence)\n",
        "\n",
        "    # Remover apóstrofos\n",
        "    sentence = re.sub(r\"\\s+[a-zA-Z]\\s+\", ' ', sentence)\n",
        "\n",
        "    # Remover múltiplos espaços\n",
        "    sentence = re.sub(r'\\s+', ' ', sentence)\n",
        "\n",
        "    # Remover Stopwords\n",
        "    pattern = re.compile(r'\\b(' + r'|'.join(stop_words) + r')\\b\\s*')\n",
        "    sentence = pattern.sub('', sentence)\n",
        "\n",
        "    return sentence"
      ],
      "metadata": {
        "id": "Jr-dRYozZmo5"
      },
      "execution_count": 91,
      "outputs": []
    },
    {
      "cell_type": "code",
      "source": [
        "#Executando limpeza\n",
        "\n",
        "X = []\n",
        "sentences = list(twitte_reviews['text'])\n",
        "for sen in sentences:\n",
        "    X.append(preprocess_text(sen))"
      ],
      "metadata": {
        "id": "EkFmjbOzaD74"
      },
      "execution_count": 92,
      "outputs": []
    },
    {
      "cell_type": "code",
      "source": [
        "#testando\n",
        "X[1]"
      ],
      "metadata": {
        "colab": {
          "base_uri": "https://localhost:8080/",
          "height": 36
        },
        "id": "AjvyruFAaWPu",
        "outputId": "dbe14741-80b7-41d0-d07e-53ee62c800f5"
      },
      "execution_count": 100,
      "outputs": [
        {
          "output_type": "execute_result",
          "data": {
            "text/plain": [
              "'rt user user cara adultera dados desmascarados ainda quer ficar governo '"
            ],
            "application/vnd.google.colaboratory.intrinsic+json": {
              "type": "string"
            }
          },
          "metadata": {},
          "execution_count": 100
        }
      ]
    },
    {
      "cell_type": "code",
      "source": [
        "# Convertendo Label do sentimento para 0 e 1\n",
        "\n",
        "y = twitte_reviews['classificacao']\n",
        "\n",
        "y = np.array(list(map(lambda x: 1 if x==\"positivo\" else 0, y)))"
      ],
      "metadata": {
        "id": "YXS5ezBtbMAR"
      },
      "execution_count": 104,
      "outputs": []
    },
    {
      "cell_type": "code",
      "source": [
        "#Separando dataset em X e Y de treinameto e validação\n",
        "\n",
        "X_train, X_test, y_train, y_test = train_test_split(X, y, test_size=0.20, random_state=42)"
      ],
      "metadata": {
        "id": "p4aHvjOWbV2U"
      },
      "execution_count": 118,
      "outputs": []
    },
    {
      "cell_type": "markdown",
      "source": [
        "**Embedding**\n",
        "\n",
        "Agora criamos um script para nossa camada de embedding. Essa camada servirá para converter o texto em formato numérico. Ela é usada antes da entrada o modelo."
      ],
      "metadata": {
        "id": "5UvOPLYkbiQH"
      }
    },
    {
      "cell_type": "code",
      "source": [
        "# Usando a função Tokenizer de keras.preprocessing.text\n",
        "# Metodo fit_on_text treina o tokenizer\n",
        "# Metodo texts_to_sequences converte a sentença em um formato numérico\n",
        "\n",
        "tokenizer = Tokenizer(num_words = 10000)\n",
        "\n",
        "tokenizer.fit_on_texts(X_train)\n",
        "\n",
        "X_train = tokenizer.texts_to_sequences(X_train)\n",
        "X_test = tokenizer.texts_to_sequences(X_test)"
      ],
      "metadata": {
        "id": "GI0n_4etb3_h"
      },
      "execution_count": 119,
      "outputs": []
    },
    {
      "cell_type": "code",
      "source": [
        "vocab_size = len(tokenizer.word_index) + 1\n",
        "\n",
        "max_len = 100\n",
        "\n",
        "X_train = pad_sequences(X_train, padding = 'post', maxlen = max_len)\n",
        "X_test = pad_sequences(X_test , padding = 'post', maxlen = max_len)"
      ],
      "metadata": {
        "id": "dYS4uNy7cUQh"
      },
      "execution_count": 120,
      "outputs": []
    },
    {
      "cell_type": "code",
      "source": [
        "# Carrega o word embeddings GloVe e cria o dicinário de Embeddings\n",
        "\n",
        "embeddings_dictionary = dict()\n",
        "glove_file = open('glove_s100.txt', encoding=\"utf8\")\n",
        "\n",
        "for line in glove_file:\n",
        "    records = line.split()\n",
        "    word = records[0]\n",
        "    # Aqui filtramos para garantir que só processamos elementos que podem ser convertidos para float\n",
        "    filtered_records = [x.replace(',', '.') for x in records[1:] if x.replace('.', '', 1).isdigit()]\n",
        "    try:\n",
        "        vector_dimensions = np.asarray(filtered_records, dtype='float32')\n",
        "        embeddings_dictionary[word] = vector_dimensions\n",
        "    except ValueError:\n",
        "        # Se ainda houver algum problema, vamos imprimir a palavra e os registros que falharam\n",
        "        print(f\"Erro na palavra: {word} com registros: {filtered_records}\")\n",
        "\n",
        "glove_file.close()\n"
      ],
      "metadata": {
        "id": "CRd4U_KdcdgD"
      },
      "execution_count": 121,
      "outputs": []
    },
    {
      "cell_type": "code",
      "source": [
        "# Cria uma matriz de Embedding contendo 100 colunas\n",
        "# 100-dimensional GloVe word embeddings para todas as palavras do corpus.\n",
        "\n",
        "embedding_matrix = np.zeros((vocab_size, 100))\n",
        "\n",
        "for word, index in tokenizer.word_index.items():\n",
        "    embedding_vector = embeddings_dictionary.get(word)\n",
        "    if embedding_vector is not None:\n",
        "        if len(embedding_vector) < 100:\n",
        "            # Preenche o vetor com zeros até alcançar 100 dimensões\n",
        "            embedding_vector = np.pad(embedding_vector, (0, 100 - len(embedding_vector)), 'constant')\n",
        "        embedding_matrix[index] = embedding_vector\n"
      ],
      "metadata": {
        "id": "v0GGyalTcqtH"
      },
      "execution_count": 122,
      "outputs": []
    },
    {
      "cell_type": "code",
      "source": [
        "embedding_matrix.shape"
      ],
      "metadata": {
        "colab": {
          "base_uri": "https://localhost:8080/",
          "height": 0
        },
        "id": "d3k2PvWzc9b4",
        "outputId": "6566984d-7fa4-46d4-c34d-42e4359c0534"
      },
      "execution_count": 123,
      "outputs": [
        {
          "output_type": "execute_result",
          "data": {
            "text/plain": [
              "(26289, 100)"
            ]
          },
          "metadata": {},
          "execution_count": 123
        }
      ]
    },
    {
      "cell_type": "markdown",
      "source": [
        "**Modelo LSTM**"
      ],
      "metadata": {
        "id": "dM_SNTMudAhh"
      }
    },
    {
      "cell_type": "code",
      "source": [
        "#Arquitetura do modelo\n",
        "\n",
        "model = Sequential([\n",
        "    Embedding(vocab_size, 100,  weights=[embedding_matrix], input_length=max_len, trainable=False),\n",
        "    LSTM(128),\n",
        "    Dense(1, activation = 'sigmoid')\n",
        "])\n",
        "\n"
      ],
      "metadata": {
        "id": "R6BtBAzSdKIO"
      },
      "execution_count": 125,
      "outputs": []
    },
    {
      "cell_type": "code",
      "source": [
        "#Parâmetros de Treinamento\n",
        "\n",
        "model.compile(loss = 'binary_crossentropy', optimizer = 'adam', metrics = ['accuracy'])\n",
        "print(model.summary())"
      ],
      "metadata": {
        "colab": {
          "base_uri": "https://localhost:8080/",
          "height": 0
        },
        "id": "w3-PYW2AdP-k",
        "outputId": "503e7ef1-13f9-4cae-8961-2d64b81f1c3d"
      },
      "execution_count": 126,
      "outputs": [
        {
          "output_type": "stream",
          "name": "stdout",
          "text": [
            "Model: \"sequential_2\"\n",
            "_________________________________________________________________\n",
            " Layer (type)                Output Shape              Param #   \n",
            "=================================================================\n",
            " embedding_2 (Embedding)     (None, 100, 100)          2628900   \n",
            "                                                                 \n",
            " lstm_2 (LSTM)               (None, 128)               117248    \n",
            "                                                                 \n",
            " dense_2 (Dense)             (None, 1)                 129       \n",
            "                                                                 \n",
            "=================================================================\n",
            "Total params: 2746277 (10.48 MB)\n",
            "Trainable params: 117377 (458.50 KB)\n",
            "Non-trainable params: 2628900 (10.03 MB)\n",
            "_________________________________________________________________\n",
            "None\n"
          ]
        }
      ]
    },
    {
      "cell_type": "code",
      "source": [
        "history = model.fit(X_train, y_train, batch_size=128, epochs=10, verbose=1, validation_split=0.20)"
      ],
      "metadata": {
        "colab": {
          "base_uri": "https://localhost:8080/",
          "height": 0
        },
        "id": "oK91iYV1dUAQ",
        "outputId": "d34aa7be-9495-434a-f237-c17bbc3d17b0"
      },
      "execution_count": 127,
      "outputs": [
        {
          "output_type": "stream",
          "name": "stdout",
          "text": [
            "Epoch 1/10\n",
            "105/105 [==============================] - 36s 322ms/step - loss: 0.6870 - accuracy: 0.5571 - val_loss: 0.6866 - val_accuracy: 0.5571\n",
            "Epoch 2/10\n",
            "105/105 [==============================] - 33s 317ms/step - loss: 0.6868 - accuracy: 0.5583 - val_loss: 0.6868 - val_accuracy: 0.5571\n",
            "Epoch 3/10\n",
            "105/105 [==============================] - 33s 317ms/step - loss: 0.6865 - accuracy: 0.5583 - val_loss: 0.6869 - val_accuracy: 0.5571\n",
            "Epoch 4/10\n",
            "105/105 [==============================] - 33s 319ms/step - loss: 0.6866 - accuracy: 0.5583 - val_loss: 0.6869 - val_accuracy: 0.5571\n",
            "Epoch 5/10\n",
            "105/105 [==============================] - 32s 309ms/step - loss: 0.6865 - accuracy: 0.5583 - val_loss: 0.6866 - val_accuracy: 0.5571\n",
            "Epoch 6/10\n",
            "105/105 [==============================] - 33s 319ms/step - loss: 0.6866 - accuracy: 0.5583 - val_loss: 0.6867 - val_accuracy: 0.5571\n",
            "Epoch 7/10\n",
            "105/105 [==============================] - 34s 320ms/step - loss: 0.6866 - accuracy: 0.5583 - val_loss: 0.6866 - val_accuracy: 0.5571\n",
            "Epoch 8/10\n",
            "105/105 [==============================] - 33s 317ms/step - loss: 0.6865 - accuracy: 0.5583 - val_loss: 0.6866 - val_accuracy: 0.5571\n",
            "Epoch 9/10\n",
            "105/105 [==============================] - 33s 318ms/step - loss: 0.6865 - accuracy: 0.5583 - val_loss: 0.6867 - val_accuracy: 0.5571\n",
            "Epoch 10/10\n",
            "105/105 [==============================] - 33s 317ms/step - loss: 0.6865 - accuracy: 0.5583 - val_loss: 0.6866 - val_accuracy: 0.5571\n"
          ]
        }
      ]
    },
    {
      "cell_type": "code",
      "source": [
        "#Evaluate\n",
        "score = model.evaluate(X_test, y_test, verbose=1)"
      ],
      "metadata": {
        "colab": {
          "base_uri": "https://localhost:8080/",
          "height": 0
        },
        "id": "Aauea_e9dYY4",
        "outputId": "eb34a990-1b0d-4de8-f373-36d9d2dcb54a"
      },
      "execution_count": 54,
      "outputs": [
        {
          "output_type": "stream",
          "name": "stdout",
          "text": [
            "132/132 [==============================] - 8s 60ms/step - loss: 0.6849 - accuracy: 0.5643\n"
          ]
        }
      ]
    },
    {
      "cell_type": "code",
      "source": [
        "print(\"Teste Score:\", score[0])\n",
        "print(\"Teste Accuracy:\", score[1])"
      ],
      "metadata": {
        "colab": {
          "base_uri": "https://localhost:8080/",
          "height": 0
        },
        "id": "y8V-ByU0dmyO",
        "outputId": "a082de1f-57b6-4d5e-94ef-91ae965a8942"
      },
      "execution_count": 55,
      "outputs": [
        {
          "output_type": "stream",
          "name": "stdout",
          "text": [
            "Teste Score: 0.6849216818809509\n",
            "Teste Accuracy: 0.5642856955528259\n"
          ]
        }
      ]
    },
    {
      "cell_type": "code",
      "source": [
        "#Gráficos de Avaliação\n",
        "\n",
        "plt.plot(history.history['accuracy'])\n",
        "plt.plot(history.history['val_accuracy'])\n",
        "\n",
        "plt.title('Acurácia do Modelo')\n",
        "plt.ylabel('accuracy')\n",
        "plt.xlabel('epoch')\n",
        "plt.legend(['train','test'], loc='upper left')\n",
        "plt.show()\n",
        "\n",
        "plt.plot(history.history['loss'])\n",
        "plt.plot(history.history['val_loss'])\n",
        "\n",
        "plt.title('Perda')\n",
        "plt.ylabel('loss')\n",
        "plt.xlabel('epoch')\n",
        "plt.legend(['train','test'], loc='upper left')\n",
        "plt.show()"
      ],
      "metadata": {
        "colab": {
          "base_uri": "https://localhost:8080/",
          "height": 927
        },
        "id": "P-6ODkKvduYu",
        "outputId": "50a6c51f-2a39-432c-df4f-2d60412b2656"
      },
      "execution_count": 56,
      "outputs": [
        {
          "output_type": "display_data",
          "data": {
            "text/plain": [
              "<Figure size 640x480 with 1 Axes>"
            ],
            "image/png": "[encoded data removed]"
          },
          "metadata": {}
        },
        {
          "output_type": "display_data",
          "data": {
            "text/plain": [
              "<Figure size 640x480 with 1 Axes>"
            ],
            "image/png": "[encoded data removed]"
          },
          "metadata": {}
        }
      ]
    },
    {
      "cell_type": "code",
      "source": [
        "# Salvando o modelo em formato h5\n",
        "\n",
        "model.save(f\"./lstm_model_acc_{round(score[1], 3)}.h5\", save_format='h5')"
      ],
      "metadata": {
        "colab": {
          "base_uri": "https://localhost:8080/",
          "height": 0
        },
        "id": "y8Mj6rqWd7wi",
        "outputId": "51009481-1cac-4a34-c954-2fd8c16fb3d4"
      },
      "execution_count": 57,
      "outputs": [
        {
          "output_type": "stream",
          "name": "stderr",
          "text": [
            "/usr/local/lib/python3.10/dist-packages/keras/src/engine/training.py:3103: UserWarning: You are saving your model as an HDF5 file via `model.save()`. This file format is considered legacy. We recommend using instead the native Keras format, e.g. `model.save('my_model.keras')`.\n",
            "  saving_api.save_model(\n"
          ]
        }
      ]
    },
    {
      "cell_type": "markdown",
      "source": [
        "**Fazendo Predições**"
      ],
      "metadata": {
        "id": "eZuSckiEeIPb"
      }
    },
    {
      "cell_type": "code",
      "source": [
        "instance = \"@user muito dele\"\n",
        "#instance2 = \"I was looking forward to Dantes contribution to this excellent horror anthology series from Showtime, but this was easily the worst of the bunch. Its really too bad. Part of this may be due to the poor, if odd, choice of source materials. Why Joe didnt just write an original, I have no idea. Instead, we get this soapbox episode where the \"\"message\"\" overwhelms the script, the characters, the staging, everything, and by the end I was just wondering whether it could get any worse, and I wont spoil it...but it ended up getting worse. What a stinker by such a talented creative team. Skip this one and buy the John Carpenter one instead. It manages to balance all of the elements: horror, humor, character, vision, and its fun. Homecoming is about as fun as having a bear take a dump on you while you sleep.\"\n",
        "\n",
        "instance = tokenizer.texts_to_sequences(instance)\n",
        "\n",
        "flat_list = []\n",
        "\n",
        "for sublist in instance :\n",
        "    for item in sublist :\n",
        "        flat_list.append(item)\n",
        "\n",
        "flat_list = [flat_list]\n",
        "\n",
        "flat_list = pad_sequences(flat_list, padding = 'post', maxlen = max_len)\n",
        "\n",
        "if model.predict(flat_list) > 0.5 :\n",
        "\n",
        "    print(\"Twitte Positivo\")\n",
        "\n",
        "else :\n",
        "    print(\"Twitte Negativo.\")"
      ],
      "metadata": {
        "colab": {
          "base_uri": "https://localhost:8080/",
          "height": 0
        },
        "id": "pf2bqhV6g90y",
        "outputId": "89971871-0498-404f-dbf0-7e3798e43dd6"
      },
      "execution_count": 70,
      "outputs": [
        {
          "output_type": "stream",
          "name": "stdout",
          "text": [
            "1/1 [==============================] - 0s 122ms/step\n",
            "Twitte Positivo\n"
          ]
        }
      ]
    }
  ]
}